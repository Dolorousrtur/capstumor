{
 "cells": [
  {
   "cell_type": "code",
   "execution_count": 1,
   "metadata": {},
   "outputs": [
    {
     "name": "stderr",
     "output_type": "stream",
     "text": [
      "/home/dolorousrtur/anaconda3/envs/dipstereo/lib/python3.5/site-packages/h5py/__init__.py:36: FutureWarning: Conversion of the second argument of issubdtype from `float` to `np.floating` is deprecated. In future, it will be treated as `np.float64 == np.dtype(float).type`.\n",
      "  from ._conv import register_converters as _register_converters\n"
     ]
    }
   ],
   "source": [
    "import numpy as np\n",
    "import torch\n",
    "from torch import nn\n",
    "import matplotlib.pyplot as plt\n",
    "from torch.autograd import Variable\n",
    "import torch.nn.functional as F\n",
    "import pandas as pd\n",
    "%matplotlib inline\n",
    "\n",
    "from utils import read_h5py_folder, augment, resize_fast, get_train_test_data, tumor_data_np, plot_confusion_matrix"
   ]
  },
  {
   "cell_type": "code",
   "execution_count": null,
   "metadata": {},
   "outputs": [],
   "source": [
    "# data=read_h5py_folder(path='data/brainTumorDataPublic_1-766', indicies=(0,766))\n",
    "# data1=read_h5py_folder(path='data/brainTumorDataPublic_767-1532', indicies=(0,766))\n",
    "# data2=read_h5py_folder(path='data/brainTumorDataPublic_1533-2298', indicies=(0,766))\n",
    "# data3=read_h5py_folder(path='data/brainTumorDataPublic_2299-3064', indicies=(0,766))"
   ]
  },
  {
   "cell_type": "code",
   "execution_count": null,
   "metadata": {},
   "outputs": [],
   "source": [
    "# data = pd.concat([data,data1,data2,data3],axis=0,ignore_index=True) #merge into one dataframe\n",
    "# del data1,data2,data3"
   ]
  },
  {
   "cell_type": "code",
   "execution_count": null,
   "metadata": {},
   "outputs": [],
   "source": [
    "# data_resized = resize_fast(data, 64)"
   ]
  },
  {
   "cell_type": "code",
   "execution_count": null,
   "metadata": {},
   "outputs": [],
   "source": [
    "import h5py\n",
    "from sklearn.model_selection import train_test_split\n",
    "\n",
    "f = h5py.File('h5.mat')\n",
    "\n",
    "images = np.expand_dims(f['image'][()], axis=1)\n",
    "masks = f['tumorMask'][()]\n",
    "labels = f['label'][()].astype(np.int32)\n",
    "\n",
    "images_train, images_test, labels_train, labels_test = train_test_split(images, labels)"
   ]
  },
  {
   "cell_type": "code",
   "execution_count": null,
   "metadata": {},
   "outputs": [],
   "source": [
    "train_data = tumor_data_np(images_train, labels_train)\n",
    "test_data = tumor_data_np(images_test, labels_test)\n",
    "\n",
    "batch_size, n_iters = 25, 700\n",
    "n_epoches = int(n_iters / (len(train_data)/batch_size))\n",
    "\n",
    "train_feeder = torch.utils.data.DataLoader(dataset=train_data, batch_size=batch_size, shuffle=True)\n",
    "test_feeder = torch.utils.data.DataLoader(dataset=test_data, batch_size=1, shuffle=False)\n",
    "\n"
   ]
  },
  {
   "cell_type": "code",
   "execution_count": null,
   "metadata": {},
   "outputs": [],
   "source": [
    "def squash(x, dim=-1):\n",
    "    squared_norm = (x**2).sum(dim=dim, keepdim=True)\n",
    "#     out = (squared_norm * x) / ((1 + squared_norm) * torch.sqrt(squared_norm))\n",
    "    return (x * squared_norm) / ((1 + squared_norm) * torch.sqrt(squared_norm))"
   ]
  },
  {
   "cell_type": "code",
   "execution_count": null,
   "metadata": {},
   "outputs": [],
   "source": [
    "class PrimaryCaps(torch.nn.Module):\n",
    "    def __init__(self, in_channels, out_channels, num_capsules):\n",
    "        super(PrimaryCaps, self).__init__()\n",
    "        self.capsules = nn.ModuleList()\n",
    "        \n",
    "        for i in range(num_capsules):\n",
    "            self.capsules.append(nn.Conv2d(in_channels, out_channels, 9, stride=2))\n",
    "            \n",
    "    def forward(self, x):\n",
    "        out = []\n",
    "        for cap in self.capsules:\n",
    "            out.append(cap(x))\n",
    "        \n",
    "        out = torch.cat(out)\n",
    "        out = torch.stack(out, dim=1)\n",
    "        out = out.view(x.size()[0], len(self.capsules), -1)\n",
    "        out = out.permute(0,2,1)\n",
    "        out = squash(out, dim=-1)\n",
    "        \n",
    "        return out"
   ]
  },
  {
   "cell_type": "code",
   "execution_count": null,
   "metadata": {},
   "outputs": [],
   "source": [
    "class ClassesCaps(torch.nn.Module):\n",
    "    def __init__(self, in_channels, out_channels, in_vectors, n_capsules, n_iters):\n",
    "        super(ClassesCaps, self).__init__()\n",
    "        \n",
    "        self.weights = nn.Parameter(torch.randn(n_capsules, in_vectors, in_channels, out_channels))\n",
    "        self.n_iters = n_iters\n",
    "        \n",
    "    def forward(self, x):\n",
    "        predictions = x[None, :, :, None, :] @ self.weights[:, None, :, :, :]      \n",
    "        \n",
    "        B = Variable(torch.zeros(*predictions.shape[:3])).cuda()\n",
    "        \n",
    "        for i in range(self.n_iters):\n",
    "            C = torch.nn.Softmax(dim=0)(B)\n",
    "            S = (predictions*C[:,:,:,None,None]).sum(dim=2, keepdim=True)\n",
    "            S = squash(S, dim=4)\n",
    "            \n",
    "\n",
    "            if i != self.n_iters - 1:\n",
    "                B_del = (predictions*S).sum(dim=-1).sum(dim=-1)\n",
    "                B = B + B_del\n",
    "        S = S.squeeze(2).squeeze(2)\n",
    "        S = S.permute(1,0,2)\n",
    "        return S"
   ]
  },
  {
   "cell_type": "code",
   "execution_count": null,
   "metadata": {},
   "outputs": [],
   "source": [
    "class Decoder(torch.nn.Module):    \n",
    "    def __init__(self, in_features, n_classes, img_height, img_width):\n",
    "        super(Decoder, self).__init__()\n",
    "        self.shape = (img_height, img_width)\n",
    "        out_features = img_height * img_width\n",
    "        seq = []\n",
    "        seq.append(nn.Linear(in_features*n_classes, 512))\n",
    "        seq.append(nn.ReLU())\n",
    "        seq.append(nn.Linear(512, 1024))\n",
    "        seq.append(nn.ReLU())\n",
    "        seq.append(nn.Linear(1024, out_features))\n",
    "        seq.append(nn.Sigmoid())\n",
    "        \n",
    "        self.pipe = nn.Sequential(*seq)\n",
    "        \n",
    "    def forward(self, x):\n",
    "        x = self.pipe(x)\n",
    "        x = x.view(x.shape[0], *self.shape)\n",
    "        return(x)\n",
    "        "
   ]
  },
  {
   "cell_type": "code",
   "execution_count": 11,
   "metadata": {},
   "outputs": [],
   "source": [
    "class CapsNet(torch.nn.Module):\n",
    "    \n",
    "    def __init__(self, heigth, width, n_pcaps, n_ccaps):\n",
    "        super(CapsNet, self).__init__()\n",
    "        self.conv_layer = nn.Conv2d(1, 64, 9)\n",
    "        self.pcaps = PrimaryCaps(64, 32, n_pcaps)\n",
    "        self.ccaps = ClassesCaps(8, 16, 32*24*24, n_ccaps, 3)\n",
    "        self.decoder = Decoder(16, n_ccaps, heigth, width)\n",
    "    \n",
    "    \n",
    "    def forward(self, x):\n",
    "        x = self.conv_layer(x)\n",
    "        x = self.pcaps(x)\n",
    "        \n",
    "        x = self.ccaps(x)\n",
    "        \n",
    "        class_vecs = x.clone()\n",
    "        x = (x**2).sum(dim=2)\n",
    "        x = F.softmax(x, dim=1)\n",
    "        \n",
    "\n",
    "        \n",
    "        decoder_inp = class_vecs.contiguous().view(class_vecs.shape[0], -1)\n",
    "        decoded = self.decoder(decoder_inp)\n",
    "        \n",
    "        return decoded, x"
   ]
  },
  {
   "cell_type": "code",
   "execution_count": 12,
   "metadata": {},
   "outputs": [],
   "source": [
    "class CapsLoss(torch.nn.Module):\n",
    "    \n",
    "    def __init__(self, l=5e-4):\n",
    "        super(CapsLoss, self).__init__()\n",
    "        self.reconstruction_loss = nn.MSELoss(size_average=False)\n",
    "        self.classification_loss = nn.CrossEntropyLoss()\n",
    "        self.l = l\n",
    "        \n",
    "    def forward(self, data, labels, classes, reconstructions):\n",
    "        recloss = self.reconstruction_loss(reconstructions, data)\n",
    "#         clfloss = self.classification_loss(classes, labels)\n",
    "\n",
    "        left = F.relu(0.9 - classes, inplace=True) ** 2\n",
    "        right = F.relu(classes - 0.1, inplace=True) ** 2\n",
    "        \n",
    "#         print('left', type(left.data))\n",
    "#         print('right', type(right.data))\n",
    "#         print('labels', type(labels.data))\n",
    "\n",
    "        clfloss1 = labels * left\n",
    "        clfloss2 =  0.5 * (1. - labels) * right\n",
    "        clfloss =  clfloss1 + clfloss2\n",
    "        clfloss = clfloss.sum()\n",
    "        \n",
    "        total_loss = clfloss\n",
    "        return total_loss\n",
    "        "
   ]
  },
  {
   "cell_type": "code",
   "execution_count": 15,
   "metadata": {},
   "outputs": [],
   "source": [
    "model = CapsNet(64, 64, 8, 3).cuda()\n",
    "criterion = CapsLoss().cuda()\n",
    "optimizer = torch.optim.Adam(model.parameters(), lr=1e-5)"
   ]
  },
  {
   "cell_type": "code",
   "execution_count": 16,
   "metadata": {},
   "outputs": [
    {
     "name": "stdout",
     "output_type": "stream",
     "text": [
      "0\n",
      "1\n",
      "2\n",
      "3\n",
      "4\n",
      "5\n",
      "6\n"
     ]
    }
   ],
   "source": [
    "history = list()\n",
    "classes_pred = []\n",
    "y_true = []\n",
    "\n",
    "for epoch in range(n_epoches):\n",
    "    print(epoch)\n",
    "    for i,(image, label) in enumerate(train_feeder):\n",
    "#         print(image.shape)\n",
    "#         print(label.shape)\n",
    "        inputs = Variable(image.cuda()).float()\n",
    "        labels = Variable(label.cuda())\n",
    "        optimizer.zero_grad()\n",
    "        reconstructions, classes = model(inputs)\n",
    "        loss = criterion(inputs, labels.float(), classes, reconstructions)\n",
    "        \n",
    "        \n",
    "        y_true.append(labels.long().view(-1))\n",
    "        classes_pred.append(classes)\n",
    "        \n",
    "        loss.backward()\n",
    "        optimizer.step()\n",
    "        history.append(loss.cpu().data.numpy())"
   ]
  },
  {
   "cell_type": "code",
   "execution_count": 17,
   "metadata": {
    "scrolled": true
   },
   "outputs": [
    {
     "data": {
      "text/plain": [
       "[<matplotlib.lines.Line2D at 0x7fef948bad30>]"
      ]
     },
     "execution_count": 17,
     "metadata": {},
     "output_type": "execute_result"
    },
    {
     "data": {
      "image/png": "[encoded data removed]",
      "text/plain": [
       "<matplotlib.figure.Figure at 0x7fefba6903c8>"
      ]
     },
     "metadata": {},
     "output_type": "display_data"
    }
   ],
   "source": [
    "plt.plot(history)"
   ]
  },
  {
   "cell_type": "code",
   "execution_count": 18,
   "metadata": {},
   "outputs": [],
   "source": [
    "correct, y_pred, y_true = 0, list(), list()\n",
    "\n",
    "for image, labels in test_feeder:\n",
    "    \n",
    "    inputs = Variable(image.cuda()).float()\n",
    "    \n",
    "    \n",
    "    \n",
    "    \n",
    "    reconstructions, classes = model(inputs)\n",
    "    pred = np.argmax(classes.data.cpu().numpy())\n",
    "    true = labels.numpy()[0][0].astype(np.int32)\n",
    "    correct += int(pred == true)\n",
    "    y_pred.append(pred)\n",
    "    y_true.append(true)"
   ]
  },
  {
   "cell_type": "code",
   "execution_count": 19,
   "metadata": {},
   "outputs": [
    {
     "name": "stdout",
     "output_type": "stream",
     "text": [
      "Accuracy: 0.4934725848563969\n"
     ]
    }
   ],
   "source": [
    "print('Accuracy:', correct/len(test_data))"
   ]
  },
  {
   "cell_type": "code",
   "execution_count": 20,
   "metadata": {},
   "outputs": [
    {
     "data": {
      "text/plain": [
       "174"
      ]
     },
     "execution_count": 20,
     "metadata": {},
     "output_type": "execute_result"
    }
   ],
   "source": [
    "(np.array(y_true) == 0).sum()"
   ]
  },
  {
   "cell_type": "code",
   "execution_count": 21,
   "metadata": {},
   "outputs": [
    {
     "data": {
      "image/png": "[encoded data removed]",
      "text/plain": [
       "<matplotlib.figure.Figure at 0x7fef94880160>"
      ]
     },
     "metadata": {},
     "output_type": "display_data"
    }
   ],
   "source": [
    "from sklearn.metrics import confusion_matrix\n",
    "plot_confusion_matrix(cm=confusion_matrix(y_true, y_pred), classes=['meningioma','glioma','pituitary tumor'])"
   ]
  },
  {
   "cell_type": "code",
   "execution_count": null,
   "metadata": {},
   "outputs": [],
   "source": [
    "yy = X_train['']"
   ]
  },
  {
   "cell_type": "code",
   "execution_count": 24,
   "metadata": {},
   "outputs": [
    {
     "data": {
      "text/plain": [
       "Variable containing:\n",
       " 0\n",
       "[torch.cuda.LongTensor of size 1 (GPU 0)]"
      ]
     },
     "execution_count": 24,
     "metadata": {},
     "output_type": "execute_result"
    }
   ],
   "source": [
    "y_true[0][0]"
   ]
  },
  {
   "cell_type": "code",
   "execution_count": 40,
   "metadata": {},
   "outputs": [
    {
     "data": {
      "text/plain": [
       "7"
      ]
     },
     "execution_count": 40,
     "metadata": {},
     "output_type": "execute_result"
    }
   ],
   "source": [
    "(data_resized['label'] == ).sum()"
   ]
  },
  {
   "cell_type": "code",
   "execution_count": 34,
   "metadata": {},
   "outputs": [
    {
     "data": {
      "text/plain": [
       "576"
      ]
     },
     "execution_count": 34,
     "metadata": {},
     "output_type": "execute_result"
    }
   ],
   "source": [
    "(X_train['label'] == 1).sum()"
   ]
  },
  {
   "cell_type": "code",
   "execution_count": null,
   "metadata": {},
   "outputs": [],
   "source": []
  }
 ],
 "metadata": {
  "kernelspec": {
   "display_name": "Python 3",
   "language": "python",
   "name": "python3"
  },
  "language_info": {
   "codemirror_mode": {
    "name": "ipython",
    "version": 3
   },
   "file_extension": ".py",
   "mimetype": "text/x-python",
   "name": "python",
   "nbconvert_exporter": "python",
   "pygments_lexer": "ipython3",
   "version": "3.5.4"
  }
 },
 "nbformat": 4,
 "nbformat_minor": 2
}
