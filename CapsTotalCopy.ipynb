{
 "cells": [
  {
   "cell_type": "code",
   "execution_count": 16,
   "metadata": {},
   "outputs": [],
   "source": [
    "import sys\n",
    "\n",
    "import torch\n",
    "import torch.nn.functional as F\n",
    "from torch import nn\n",
    "import numpy as np\n",
    "\n",
    "from capsnet import CapsuleNet, CapsuleLoss\n",
    "\n",
    "BATCH_SIZE = 25\n",
    "NUM_CLASSES = 3\n",
    "NUM_EPOCHS = 100\n",
    "NUM_ROUTING_ITERATIONS = 3\n"
   ]
  },
  {
   "cell_type": "code",
   "execution_count": 17,
   "metadata": {},
   "outputs": [
    {
     "name": "stdout",
     "output_type": "stream",
     "text": [
      "# parameters: 13159296\n"
     ]
    }
   ],
   "source": [
    "from torch.autograd import Variable\n",
    "from torch.optim import Adam\n",
    "from torchnet.engine import Engine\n",
    "from torchnet.logger import VisdomPlotLogger, VisdomLogger\n",
    "from torchvision.utils import make_grid\n",
    "from torchvision.datasets.mnist import MNIST\n",
    "from tqdm import tqdm\n",
    "import torchnet as tnt\n",
    "\n",
    "model = CapsuleNet(img_shape=(64, 64), n_pcaps=8, n_ccaps=3, conv_channels=64, n_iterations=3)\n",
    "# model = CapsuleNet()\n",
    "# model.load_state_dict(torch.load('epochs/epoch_327.pt'))\n",
    "model.cuda()\n",
    "\n",
    "print(\"# parameters:\", sum(param.numel() for param in model.parameters()))"
   ]
  },
  {
   "cell_type": "code",
   "execution_count": 18,
   "metadata": {},
   "outputs": [],
   "source": [
    "optimizer = Adam(model.parameters())\n",
    "\n",
    "engine = Engine()\n",
    "meter_loss = tnt.meter.AverageValueMeter()\n",
    "meter_accuracy = tnt.meter.ClassErrorMeter(accuracy=True)\n",
    "confusion_meter = tnt.meter.ConfusionMeter(NUM_CLASSES, normalized=True)\n",
    "\n",
    "train_loss_logger = VisdomPlotLogger('line', opts={'title': 'Train Loss'})\n",
    "train_error_logger = VisdomPlotLogger('line', opts={'title': 'Train Accuracy'})\n",
    "test_loss_logger = VisdomPlotLogger('line', opts={'title': 'Test Loss'})\n",
    "test_accuracy_logger = VisdomPlotLogger('line', opts={'title': 'Test Accuracy'})\n",
    "confusion_logger = VisdomLogger('heatmap', opts={'title': 'Confusion matrix',\n",
    "                                                 'columnnames': list(range(NUM_CLASSES)),\n",
    "                                                 'rownames': list(range(NUM_CLASSES))})\n",
    "ground_truth_logger = VisdomLogger('image', opts={'title': 'Ground Truth'})\n",
    "reconstruction_logger = VisdomLogger('image', opts={'title': 'Reconstruction'})\n",
    "\n",
    "capsule_loss = CapsuleLoss()"
   ]
  },
  {
   "cell_type": "code",
   "execution_count": 19,
   "metadata": {},
   "outputs": [],
   "source": [
    "# class CapsuleNet(nn.Module):\n",
    "#     def __init__(self, img_shape, n_pcaps, n_ccaps, conv_channels=64, n_iterations=3):\n",
    "#         super(CapsuleNet, self).__init__()\n",
    "        \n",
    "#         height, width = img_shape\n",
    "        \n",
    "#         height_dn = (height - 8*2) // 2\n",
    "#         width_dn = (width - 8*2) // 2\n",
    "        \n",
    "\n",
    "#         self.conv1 = nn.Conv2d(in_channels=1, out_channels=conv_channels, kernel_size=9, stride=1)\n",
    "        \n",
    "#         self.primary_capsules = PrimaryCaps(in_channels=conv_channels, out_channels=32, num_capsules=n_pcaps)\n",
    "\n",
    "#         self.digit_capsules = ClassesCaps(in_channels=8, out_channels=16, in_vectors=32 * height_dn * width_dn, \n",
    "#                                               n_capsules=n_ccaps, n_iters=NUM_ROUTING_ITERATIONS)\n",
    "\n",
    "#         self.decoder = Decoder(in_features=16, n_classes=n_ccaps, img_height=height, img_width=width)\n",
    "\n",
    "#     def forward(self, x, y=None):\n",
    "#         x = F.relu(self.conv1(x), inplace=True)\n",
    "# #         print(x.shape)\n",
    "#         x = self.primary_capsules(x)\n",
    "# #         print(x.shape)\n",
    "        \n",
    "#         x = self.digit_capsules(x)\n",
    "#         x = x.squeeze(2).squeeze(2)\n",
    "#         classes = (x ** 2).sum(dim=-1) ** 0.5\n",
    "#         classes = F.softmax(classes, dim=-1)\n",
    "        \n",
    "\n",
    "\n",
    "#         if y is None:\n",
    "#             _, max_length_indices = classes.max(dim=1)\n",
    "#             y = Variable(torch.sparse.torch.eye(NUM_CLASSES)).cuda().index_select(dim=0, index=max_length_indices)\n",
    "\n",
    "#         reconstructions = self.decoder((x * y[:, :, None]).view(x.size(0), -1))\n",
    "\n",
    "#         return classes, reconstructions"
   ]
  },
  {
   "cell_type": "code",
   "execution_count": 20,
   "metadata": {},
   "outputs": [],
   "source": [
    "import h5py\n",
    "from sklearn.model_selection import train_test_split\n",
    "\n",
    "f = h5py.File('h5.mat')\n",
    "\n",
    "images = np.expand_dims(f['image'][()], axis=1)\n",
    "masks = f['tumorMask'][()]\n",
    "labels = f['label'][()].astype(np.int32)\n",
    "\n",
    "data_train, data_test, labels_train, labels_test, masks_train, masks_test = train_test_split(images, labels, masks, shuffle=True)\n",
    "\n",
    "masks_train = np.expand_dims(masks_train, 1)\n",
    "masks_test = np.expand_dims(masks_test, 1)\n",
    "\n",
    "# data_train = data_train*masks_train\n",
    "# data_test = data_test*masks_test\n",
    "\n",
    "\n",
    "\n",
    "def get_iterator(mode):\n",
    "#     dataset = MNIST(root='./data', download=True, train=mode)\n",
    "#     data = getattr(dataset, 'train_data' if mode else 'test_data')\n",
    "#     labels = getattr(dataset, 'train_labels' if mode else 'test_labels')   \n",
    "    \n",
    "    if mode:\n",
    "        data = torch.FloatTensor(data_train)\n",
    "        labels = torch.LongTensor(labels_train)\n",
    "    else:\n",
    "        data = torch.FloatTensor(data_test)\n",
    "        labels = torch.LongTensor(labels_test)\n",
    "\n",
    "    \n",
    "    tensor_dataset = tnt.dataset.TensorDataset([data, labels])\n",
    "\n",
    "    return tensor_dataset.parallel(batch_size=BATCH_SIZE, num_workers=4, shuffle=mode)\n",
    "\n",
    "\n",
    "def processor(sample):\n",
    "    data, labels, training = sample\n",
    "\n",
    "#     data = (data.unsqueeze(1).float() / 255.0)\n",
    "    data = (data.float())\n",
    "    labels = torch.LongTensor(labels)\n",
    "    \n",
    "\n",
    "\n",
    "    labels = torch.sparse.torch.eye(NUM_CLASSES).index_select(dim=0, index=labels)\n",
    "\n",
    "    data = Variable(data).cuda()\n",
    "    labels = Variable(labels).cuda()\n",
    "\n",
    "#     print(data.shape)\n",
    "#     print(type(data.data))\n",
    "#     print(labels.shape)\n",
    "#     print(type(labels.data))\n",
    "    \n",
    "    if training:\n",
    "        classes, reconstructions = model(data, labels)\n",
    "    else:\n",
    "        classes, reconstructions = model(data)\n",
    "        \n",
    "#     print(classes.shape)\n",
    "#     print(type(classes.data))\n",
    "#     print(classes[0])\n",
    "#     print(reconstructions.shape)\n",
    "#     print(type(reconstructions.data))\n",
    "\n",
    "    loss = capsule_loss(data, labels, classes, reconstructions)\n",
    "\n",
    "    return loss, classes"
   ]
  },
  {
   "cell_type": "code",
   "execution_count": 21,
   "metadata": {},
   "outputs": [],
   "source": [
    "# class CapsuleLoss(nn.Module):\n",
    "#     def __init__(self):\n",
    "#         super(CapsuleLoss, self).__init__()\n",
    "#         self.reconstruction_loss = nn.MSELoss(size_average=False)\n",
    "\n",
    "#     def forward(self, images, labels, classes, reconstructions):\n",
    "#         left = F.relu(0.9 - classes, inplace=True) ** 2\n",
    "#         right = F.relu(classes - 0.1, inplace=True) ** 2\n",
    "\n",
    "#         margin_loss = labels * left + 0.5 * (1. - labels) * right\n",
    "#         margin_loss = margin_loss.sum()\n",
    "\n",
    "#         assert torch.numel(images) == torch.numel(reconstructions)\n",
    "#         images = images.view(reconstructions.size()[0], -1)\n",
    "#         reconstruction_loss = self.reconstruction_loss(reconstructions, images)\n",
    "\n",
    "#         return (margin_loss + 0.0005 * reconstruction_loss) / images.size(0)"
   ]
  },
  {
   "cell_type": "code",
   "execution_count": 22,
   "metadata": {},
   "outputs": [],
   "source": [
    "def reset_meters():\n",
    "    meter_accuracy.reset()\n",
    "    meter_loss.reset()\n",
    "    confusion_meter.reset()\n",
    "\n",
    "\n",
    "def on_sample(state):\n",
    "    state['sample'].append(state['train'])\n",
    "\n",
    "\n",
    "def on_forward(state):\n",
    "    meter_accuracy.add(state['output'].data, torch.LongTensor(state['sample'][1]))\n",
    "    confusion_meter.add(state['output'].data, torch.LongTensor(state['sample'][1]))\n",
    "    meter_loss.add(state['loss'].data[0])\n",
    "\n",
    "\n",
    "def on_start_epoch(state):\n",
    "    reset_meters()\n",
    "    state['iterator'] = tqdm(state['iterator'])"
   ]
  },
  {
   "cell_type": "code",
   "execution_count": null,
   "metadata": {
    "scrolled": true
   },
   "outputs": [
    {
     "name": "stderr",
     "output_type": "stream",
     "text": [
      "100%|██████████| 92/92 [00:30<00:00,  3.02it/s]"
     ]
    },
    {
     "name": "stdout",
     "output_type": "stream",
     "text": [
      "[Epoch 1] Training Loss: 0.4069 (Accuracy: 48.83%)\n"
     ]
    },
    {
     "name": "stderr",
     "output_type": "stream",
     "text": [
      "\n",
      "  0%|          | 0/92 [00:00<?, ?it/s]"
     ]
    },
    {
     "name": "stdout",
     "output_type": "stream",
     "text": [
      "[Epoch 1] Testing Loss: 0.3299 (Accuracy: 57.70%)\n"
     ]
    },
    {
     "name": "stderr",
     "output_type": "stream",
     "text": [
      "100%|██████████| 92/92 [00:29<00:00,  3.07it/s]"
     ]
    },
    {
     "name": "stdout",
     "output_type": "stream",
     "text": [
      "[Epoch 2] Training Loss: 0.3058 (Accuracy: 61.71%)\n"
     ]
    },
    {
     "name": "stderr",
     "output_type": "stream",
     "text": [
      "\n",
      "  0%|          | 0/92 [00:00<?, ?it/s]"
     ]
    },
    {
     "name": "stdout",
     "output_type": "stream",
     "text": [
      "[Epoch 2] Testing Loss: 0.3018 (Accuracy: 61.36%)\n"
     ]
    },
    {
     "name": "stderr",
     "output_type": "stream",
     "text": [
      "100%|██████████| 92/92 [00:29<00:00,  3.07it/s]"
     ]
    },
    {
     "name": "stdout",
     "output_type": "stream",
     "text": [
      "[Epoch 3] Training Loss: 0.2843 (Accuracy: 65.10%)\n"
     ]
    },
    {
     "name": "stderr",
     "output_type": "stream",
     "text": [
      "\n",
      "  0%|          | 0/92 [00:00<?, ?it/s]"
     ]
    },
    {
     "name": "stdout",
     "output_type": "stream",
     "text": [
      "[Epoch 3] Testing Loss: 0.2785 (Accuracy: 65.40%)\n"
     ]
    },
    {
     "name": "stderr",
     "output_type": "stream",
     "text": [
      "100%|██████████| 92/92 [00:30<00:00,  3.07it/s]"
     ]
    },
    {
     "name": "stdout",
     "output_type": "stream",
     "text": [
      "[Epoch 4] Training Loss: 0.2619 (Accuracy: 68.71%)\n"
     ]
    },
    {
     "name": "stderr",
     "output_type": "stream",
     "text": [
      "\n",
      "  0%|          | 0/92 [00:00<?, ?it/s]"
     ]
    },
    {
     "name": "stdout",
     "output_type": "stream",
     "text": [
      "[Epoch 4] Testing Loss: 0.2587 (Accuracy: 67.89%)\n"
     ]
    },
    {
     "name": "stderr",
     "output_type": "stream",
     "text": [
      "100%|██████████| 92/92 [00:30<00:00,  3.06it/s]"
     ]
    },
    {
     "name": "stdout",
     "output_type": "stream",
     "text": [
      "[Epoch 5] Training Loss: 0.2484 (Accuracy: 70.45%)\n"
     ]
    },
    {
     "name": "stderr",
     "output_type": "stream",
     "text": [
      "\n",
      "  0%|          | 0/92 [00:00<?, ?it/s]"
     ]
    },
    {
     "name": "stdout",
     "output_type": "stream",
     "text": [
      "[Epoch 5] Testing Loss: 0.2455 (Accuracy: 70.37%)\n"
     ]
    },
    {
     "name": "stderr",
     "output_type": "stream",
     "text": [
      "100%|██████████| 92/92 [00:30<00:00,  3.06it/s]"
     ]
    },
    {
     "name": "stdout",
     "output_type": "stream",
     "text": [
      "[Epoch 6] Training Loss: 0.2375 (Accuracy: 72.50%)\n"
     ]
    },
    {
     "name": "stderr",
     "output_type": "stream",
     "text": [
      "\n",
      "  0%|          | 0/92 [00:00<?, ?it/s]"
     ]
    },
    {
     "name": "stdout",
     "output_type": "stream",
     "text": [
      "[Epoch 6] Testing Loss: 0.2374 (Accuracy: 72.06%)\n"
     ]
    },
    {
     "name": "stderr",
     "output_type": "stream",
     "text": [
      "100%|██████████| 92/92 [00:30<00:00,  3.07it/s]"
     ]
    },
    {
     "name": "stdout",
     "output_type": "stream",
     "text": [
      "[Epoch 7] Training Loss: 0.2303 (Accuracy: 75.33%)\n"
     ]
    },
    {
     "name": "stderr",
     "output_type": "stream",
     "text": [
      "\n",
      "  0%|          | 0/92 [00:00<?, ?it/s]"
     ]
    },
    {
     "name": "stdout",
     "output_type": "stream",
     "text": [
      "[Epoch 7] Testing Loss: 0.2318 (Accuracy: 72.85%)\n"
     ]
    },
    {
     "name": "stderr",
     "output_type": "stream",
     "text": [
      "100%|██████████| 92/92 [00:30<00:00,  3.06it/s]"
     ]
    },
    {
     "name": "stdout",
     "output_type": "stream",
     "text": [
      "[Epoch 8] Training Loss: 0.2249 (Accuracy: 75.54%)\n"
     ]
    },
    {
     "name": "stderr",
     "output_type": "stream",
     "text": [
      "\n",
      "  0%|          | 0/92 [00:00<?, ?it/s]"
     ]
    },
    {
     "name": "stdout",
     "output_type": "stream",
     "text": [
      "[Epoch 8] Testing Loss: 0.2255 (Accuracy: 75.33%)\n"
     ]
    },
    {
     "name": "stderr",
     "output_type": "stream",
     "text": [
      "100%|██████████| 92/92 [00:30<00:00,  3.06it/s]"
     ]
    },
    {
     "name": "stdout",
     "output_type": "stream",
     "text": [
      "[Epoch 9] Training Loss: 0.2181 (Accuracy: 77.24%)\n"
     ]
    },
    {
     "name": "stderr",
     "output_type": "stream",
     "text": [
      "\n",
      "  0%|          | 0/92 [00:00<?, ?it/s]"
     ]
    },
    {
     "name": "stdout",
     "output_type": "stream",
     "text": [
      "[Epoch 9] Testing Loss: 0.2199 (Accuracy: 76.76%)\n"
     ]
    },
    {
     "name": "stderr",
     "output_type": "stream",
     "text": [
      "100%|██████████| 92/92 [00:29<00:00,  3.07it/s]"
     ]
    },
    {
     "name": "stdout",
     "output_type": "stream",
     "text": [
      "[Epoch 10] Training Loss: 0.2161 (Accuracy: 78.15%)\n"
     ]
    },
    {
     "name": "stderr",
     "output_type": "stream",
     "text": [
      "\n",
      "  0%|          | 0/92 [00:00<?, ?it/s]"
     ]
    },
    {
     "name": "stdout",
     "output_type": "stream",
     "text": [
      "[Epoch 10] Testing Loss: 0.2160 (Accuracy: 77.94%)\n"
     ]
    },
    {
     "name": "stderr",
     "output_type": "stream",
     "text": [
      "100%|██████████| 92/92 [00:30<00:00,  3.06it/s]"
     ]
    },
    {
     "name": "stdout",
     "output_type": "stream",
     "text": [
      "[Epoch 11] Training Loss: 0.2125 (Accuracy: 78.24%)\n"
     ]
    },
    {
     "name": "stderr",
     "output_type": "stream",
     "text": [
      "\n",
      "  0%|          | 0/92 [00:00<?, ?it/s]"
     ]
    },
    {
     "name": "stdout",
     "output_type": "stream",
     "text": [
      "[Epoch 11] Testing Loss: 0.2114 (Accuracy: 77.94%)\n"
     ]
    },
    {
     "name": "stderr",
     "output_type": "stream",
     "text": [
      "100%|██████████| 92/92 [00:30<00:00,  3.07it/s]"
     ]
    },
    {
     "name": "stdout",
     "output_type": "stream",
     "text": [
      "[Epoch 12] Training Loss: 0.2096 (Accuracy: 79.81%)\n"
     ]
    },
    {
     "name": "stderr",
     "output_type": "stream",
     "text": [
      "\n",
      "  0%|          | 0/92 [00:00<?, ?it/s]"
     ]
    },
    {
     "name": "stdout",
     "output_type": "stream",
     "text": [
      "[Epoch 12] Testing Loss: 0.2177 (Accuracy: 77.55%)\n"
     ]
    },
    {
     "name": "stderr",
     "output_type": "stream",
     "text": [
      "100%|██████████| 92/92 [00:30<00:00,  3.06it/s]"
     ]
    },
    {
     "name": "stdout",
     "output_type": "stream",
     "text": [
      "[Epoch 13] Training Loss: 0.2069 (Accuracy: 80.29%)\n"
     ]
    },
    {
     "name": "stderr",
     "output_type": "stream",
     "text": [
      "\n",
      "  0%|          | 0/92 [00:00<?, ?it/s]"
     ]
    },
    {
     "name": "stdout",
     "output_type": "stream",
     "text": [
      "[Epoch 13] Testing Loss: 0.2094 (Accuracy: 77.55%)\n"
     ]
    },
    {
     "name": "stderr",
     "output_type": "stream",
     "text": [
      "100%|██████████| 92/92 [00:29<00:00,  3.07it/s]"
     ]
    },
    {
     "name": "stdout",
     "output_type": "stream",
     "text": [
      "[Epoch 14] Training Loss: 0.2052 (Accuracy: 80.42%)\n"
     ]
    },
    {
     "name": "stderr",
     "output_type": "stream",
     "text": [
      "\n",
      "  0%|          | 0/92 [00:00<?, ?it/s]"
     ]
    },
    {
     "name": "stdout",
     "output_type": "stream",
     "text": [
      "[Epoch 14] Testing Loss: 0.2071 (Accuracy: 77.94%)\n"
     ]
    },
    {
     "name": "stderr",
     "output_type": "stream",
     "text": [
      "100%|██████████| 92/92 [00:30<00:00,  3.06it/s]"
     ]
    },
    {
     "name": "stdout",
     "output_type": "stream",
     "text": [
      "[Epoch 15] Training Loss: 0.2022 (Accuracy: 80.98%)\n"
     ]
    },
    {
     "name": "stderr",
     "output_type": "stream",
     "text": [
      "\n",
      "  0%|          | 0/92 [00:00<?, ?it/s]"
     ]
    },
    {
     "name": "stdout",
     "output_type": "stream",
     "text": [
      "[Epoch 15] Testing Loss: 0.2056 (Accuracy: 79.11%)\n"
     ]
    },
    {
     "name": "stderr",
     "output_type": "stream",
     "text": [
      "100%|██████████| 92/92 [00:30<00:00,  3.06it/s]"
     ]
    },
    {
     "name": "stdout",
     "output_type": "stream",
     "text": [
      "[Epoch 16] Training Loss: 0.2024 (Accuracy: 81.59%)\n"
     ]
    },
    {
     "name": "stderr",
     "output_type": "stream",
     "text": [
      "\n",
      "  0%|          | 0/92 [00:00<?, ?it/s]"
     ]
    },
    {
     "name": "stdout",
     "output_type": "stream",
     "text": [
      "[Epoch 16] Testing Loss: 0.2046 (Accuracy: 80.81%)\n"
     ]
    },
    {
     "name": "stderr",
     "output_type": "stream",
     "text": [
      "100%|██████████| 92/92 [00:30<00:00,  3.06it/s]"
     ]
    },
    {
     "name": "stdout",
     "output_type": "stream",
     "text": [
      "[Epoch 17] Training Loss: 0.1992 (Accuracy: 82.38%)\n"
     ]
    },
    {
     "name": "stderr",
     "output_type": "stream",
     "text": [
      "\n",
      "  0%|          | 0/92 [00:00<?, ?it/s]"
     ]
    },
    {
     "name": "stdout",
     "output_type": "stream",
     "text": [
      "[Epoch 17] Testing Loss: 0.2027 (Accuracy: 81.07%)\n"
     ]
    },
    {
     "name": "stderr",
     "output_type": "stream",
     "text": [
      "100%|██████████| 92/92 [00:30<00:00,  3.06it/s]"
     ]
    },
    {
     "name": "stdout",
     "output_type": "stream",
     "text": [
      "[Epoch 18] Training Loss: 0.1972 (Accuracy: 82.38%)\n"
     ]
    },
    {
     "name": "stderr",
     "output_type": "stream",
     "text": [
      "\n",
      "  0%|          | 0/92 [00:00<?, ?it/s]"
     ]
    },
    {
     "name": "stdout",
     "output_type": "stream",
     "text": [
      "[Epoch 18] Testing Loss: 0.2030 (Accuracy: 80.42%)\n"
     ]
    },
    {
     "name": "stderr",
     "output_type": "stream",
     "text": [
      "100%|██████████| 92/92 [00:30<00:00,  3.07it/s]"
     ]
    },
    {
     "name": "stdout",
     "output_type": "stream",
     "text": [
      "[Epoch 19] Training Loss: 0.1958 (Accuracy: 83.59%)\n"
     ]
    },
    {
     "name": "stderr",
     "output_type": "stream",
     "text": [
      "\n",
      "  0%|          | 0/92 [00:00<?, ?it/s]"
     ]
    },
    {
     "name": "stdout",
     "output_type": "stream",
     "text": [
      "[Epoch 19] Testing Loss: 0.2015 (Accuracy: 81.85%)\n"
     ]
    },
    {
     "name": "stderr",
     "output_type": "stream",
     "text": [
      "100%|██████████| 92/92 [00:30<00:00,  3.07it/s]"
     ]
    },
    {
     "name": "stdout",
     "output_type": "stream",
     "text": [
      "[Epoch 20] Training Loss: 0.1950 (Accuracy: 84.29%)\n"
     ]
    },
    {
     "name": "stderr",
     "output_type": "stream",
     "text": [
      "\n",
      "  0%|          | 0/92 [00:00<?, ?it/s]"
     ]
    },
    {
     "name": "stdout",
     "output_type": "stream",
     "text": [
      "[Epoch 20] Testing Loss: 0.2022 (Accuracy: 80.42%)\n"
     ]
    },
    {
     "name": "stderr",
     "output_type": "stream",
     "text": [
      "100%|██████████| 92/92 [00:30<00:00,  3.06it/s]"
     ]
    },
    {
     "name": "stdout",
     "output_type": "stream",
     "text": [
      "[Epoch 21] Training Loss: 0.1926 (Accuracy: 83.94%)\n"
     ]
    },
    {
     "name": "stderr",
     "output_type": "stream",
     "text": [
      "\n",
      "  0%|          | 0/92 [00:00<?, ?it/s]"
     ]
    },
    {
     "name": "stdout",
     "output_type": "stream",
     "text": [
      "[Epoch 21] Testing Loss: 0.2001 (Accuracy: 82.11%)\n"
     ]
    },
    {
     "name": "stderr",
     "output_type": "stream",
     "text": [
      "100%|██████████| 92/92 [00:30<00:00,  3.06it/s]"
     ]
    },
    {
     "name": "stdout",
     "output_type": "stream",
     "text": [
      "[Epoch 22] Training Loss: 0.1912 (Accuracy: 84.68%)\n"
     ]
    },
    {
     "name": "stderr",
     "output_type": "stream",
     "text": [
      "\n",
      "  0%|          | 0/92 [00:00<?, ?it/s]"
     ]
    },
    {
     "name": "stdout",
     "output_type": "stream",
     "text": [
      "[Epoch 22] Testing Loss: 0.1986 (Accuracy: 83.68%)\n"
     ]
    },
    {
     "name": "stderr",
     "output_type": "stream",
     "text": [
      "100%|██████████| 92/92 [00:30<00:00,  3.06it/s]"
     ]
    },
    {
     "name": "stdout",
     "output_type": "stream",
     "text": [
      "[Epoch 23] Training Loss: 0.1889 (Accuracy: 85.73%)\n"
     ]
    },
    {
     "name": "stderr",
     "output_type": "stream",
     "text": [
      "\n",
      "  0%|          | 0/92 [00:00<?, ?it/s]"
     ]
    },
    {
     "name": "stdout",
     "output_type": "stream",
     "text": [
      "[Epoch 23] Testing Loss: 0.1992 (Accuracy: 82.38%)\n"
     ]
    },
    {
     "name": "stderr",
     "output_type": "stream",
     "text": [
      "100%|██████████| 92/92 [00:30<00:00,  3.01it/s]"
     ]
    },
    {
     "name": "stdout",
     "output_type": "stream",
     "text": [
      "[Epoch 24] Training Loss: 0.1869 (Accuracy: 85.47%)\n"
     ]
    },
    {
     "name": "stderr",
     "output_type": "stream",
     "text": [
      "\n",
      "  0%|          | 0/92 [00:00<?, ?it/s]"
     ]
    },
    {
     "name": "stdout",
     "output_type": "stream",
     "text": [
      "[Epoch 24] Testing Loss: 0.1961 (Accuracy: 83.42%)\n"
     ]
    },
    {
     "name": "stderr",
     "output_type": "stream",
     "text": [
      "100%|██████████| 92/92 [00:30<00:00,  3.06it/s]"
     ]
    },
    {
     "name": "stdout",
     "output_type": "stream",
     "text": [
      "[Epoch 25] Training Loss: 0.1856 (Accuracy: 86.21%)\n"
     ]
    },
    {
     "name": "stderr",
     "output_type": "stream",
     "text": [
      "\n",
      "  0%|          | 0/92 [00:00<?, ?it/s]"
     ]
    },
    {
     "name": "stdout",
     "output_type": "stream",
     "text": [
      "[Epoch 25] Testing Loss: 0.1960 (Accuracy: 83.55%)\n"
     ]
    },
    {
     "name": "stderr",
     "output_type": "stream",
     "text": [
      "100%|██████████| 92/92 [00:34<00:00,  2.67it/s]\n"
     ]
    },
    {
     "name": "stdout",
     "output_type": "stream",
     "text": [
      "[Epoch 26] Training Loss: 0.1848 (Accuracy: 86.07%)\n"
     ]
    },
    {
     "name": "stderr",
     "output_type": "stream",
     "text": [
      "\r",
      "  0%|          | 0/92 [00:00<?, ?it/s]"
     ]
    },
    {
     "name": "stdout",
     "output_type": "stream",
     "text": [
      "[Epoch 26] Testing Loss: 0.1945 (Accuracy: 84.33%)\n"
     ]
    },
    {
     "name": "stderr",
     "output_type": "stream",
     "text": [
      "100%|██████████| 92/92 [00:30<00:00,  3.05it/s]"
     ]
    },
    {
     "name": "stdout",
     "output_type": "stream",
     "text": [
      "[Epoch 27] Training Loss: 0.1834 (Accuracy: 86.12%)\n"
     ]
    },
    {
     "name": "stderr",
     "output_type": "stream",
     "text": [
      "\n",
      "  0%|          | 0/92 [00:00<?, ?it/s]"
     ]
    },
    {
     "name": "stdout",
     "output_type": "stream",
     "text": [
      "[Epoch 27] Testing Loss: 0.1945 (Accuracy: 84.07%)\n"
     ]
    },
    {
     "name": "stderr",
     "output_type": "stream",
     "text": [
      " 85%|████████▍ | 78/92 [00:25<00:04,  3.04it/s]Process Process-220:\n",
      "Process Process-217:\n",
      "Process Process-218:\n",
      "Process Process-219:\n",
      "Traceback (most recent call last):\n",
      "KeyboardInterrupt\n",
      "Traceback (most recent call last):\n",
      "Traceback (most recent call last):\n",
      "  File \"/home/dolorousrtur/anaconda3/envs/dipstereo/lib/python3.5/multiprocessing/process.py\", line 252, in _bootstrap\n",
      "    self.run()\n",
      "  File \"/home/dolorousrtur/anaconda3/envs/dipstereo/lib/python3.5/multiprocessing/process.py\", line 252, in _bootstrap\n",
      "    self.run()\n",
      "  File \"/home/dolorousrtur/anaconda3/envs/dipstereo/lib/python3.5/multiprocessing/process.py\", line 252, in _bootstrap\n",
      "    self.run()\n",
      "  File \"/home/dolorousrtur/anaconda3/envs/dipstereo/lib/python3.5/multiprocessing/process.py\", line 93, in run\n",
      "    self._target(*self._args, **self._kwargs)\n",
      "  File \"/home/dolorousrtur/anaconda3/envs/dipstereo/lib/python3.5/multiprocessing/process.py\", line 93, in run\n",
      "    self._target(*self._args, **self._kwargs)\n",
      "  File \"/home/dolorousrtur/anaconda3/envs/dipstereo/lib/python3.5/multiprocessing/process.py\", line 93, in run\n",
      "    self._target(*self._args, **self._kwargs)\n",
      "  File \"/home/dolorousrtur/anaconda3/envs/dipstereo/lib/python3.5/site-packages/torch/utils/data/dataloader.py\", line 36, in _worker_loop\n",
      "    r = index_queue.get()\n",
      "  File \"/home/dolorousrtur/anaconda3/envs/dipstereo/lib/python3.5/site-packages/torch/utils/data/dataloader.py\", line 36, in _worker_loop\n",
      "    r = index_queue.get()\n",
      "  File \"/home/dolorousrtur/anaconda3/envs/dipstereo/lib/python3.5/multiprocessing/queues.py\", line 334, in get\n",
      "    with self._rlock:\n",
      "  File \"/home/dolorousrtur/anaconda3/envs/dipstereo/lib/python3.5/site-packages/torch/utils/data/dataloader.py\", line 36, in _worker_loop\n",
      "    r = index_queue.get()\n",
      "  File \"/home/dolorousrtur/anaconda3/envs/dipstereo/lib/python3.5/multiprocessing/queues.py\", line 334, in get\n",
      "    with self._rlock:\n",
      "  File \"/home/dolorousrtur/anaconda3/envs/dipstereo/lib/python3.5/multiprocessing/synchronize.py\", line 96, in __enter__\n",
      "    return self._semlock.__enter__()\n",
      "  File \"/home/dolorousrtur/anaconda3/envs/dipstereo/lib/python3.5/multiprocessing/synchronize.py\", line 96, in __enter__\n",
      "    return self._semlock.__enter__()\n",
      "  File \"/home/dolorousrtur/anaconda3/envs/dipstereo/lib/python3.5/multiprocessing/queues.py\", line 334, in get\n",
      "    with self._rlock:\n",
      "  File \"/home/dolorousrtur/anaconda3/envs/dipstereo/lib/python3.5/multiprocessing/synchronize.py\", line 96, in __enter__\n",
      "    return self._semlock.__enter__()\n",
      "Traceback (most recent call last):\n",
      "  File \"/home/dolorousrtur/anaconda3/envs/dipstereo/lib/python3.5/multiprocessing/process.py\", line 252, in _bootstrap\n",
      "    self.run()\n",
      "  File \"/home/dolorousrtur/anaconda3/envs/dipstereo/lib/python3.5/multiprocessing/process.py\", line 93, in run\n",
      "    self._target(*self._args, **self._kwargs)\n",
      "  File \"/home/dolorousrtur/anaconda3/envs/dipstereo/lib/python3.5/site-packages/torch/utils/data/dataloader.py\", line 36, in _worker_loop\n",
      "    r = index_queue.get()\n",
      "  File \"/home/dolorousrtur/anaconda3/envs/dipstereo/lib/python3.5/multiprocessing/queues.py\", line 335, in get\n",
      "    res = self._reader.recv_bytes()\n",
      "  File \"/home/dolorousrtur/anaconda3/envs/dipstereo/lib/python3.5/multiprocessing/connection.py\", line 216, in recv_bytes\n",
      "    buf = self._recv_bytes(maxlength)\n",
      "  File \"/home/dolorousrtur/anaconda3/envs/dipstereo/lib/python3.5/multiprocessing/connection.py\", line 407, in _recv_bytes\n",
      "    buf = self._recv(4)\n",
      "  File \"/home/dolorousrtur/anaconda3/envs/dipstereo/lib/python3.5/multiprocessing/connection.py\", line 379, in _recv\n",
      "    chunk = read(handle, remaining)\n",
      "KeyboardInterrupt\n",
      "KeyboardInterrupt\n",
      "KeyboardInterrupt\n"
     ]
    }
   ],
   "source": [
    "def on_end_epoch(state):\n",
    "    print('[Epoch %d] Training Loss: %.4f (Accuracy: %.2f%%)' % (\n",
    "        state['epoch'], meter_loss.value()[0], meter_accuracy.value()[0]))\n",
    "\n",
    "#     train_loss_logger.log(state['epoch'], meter_loss.value()[0])\n",
    "#     train_error_logger.log(state['epoch'], meter_accuracy.value()[0])\n",
    "\n",
    "    reset_meters()\n",
    "\n",
    "    engine.test(processor, get_iterator(False))\n",
    "#     test_loss_logger.log(state['epoch'], meter_loss.value()[0])\n",
    "#     test_accuracy_logger.log(state['epoch'], meter_accuracy.value()[0])\n",
    "#     confusion_logger.log(confusion_meter.value())\n",
    "\n",
    "    print('[Epoch %d] Testing Loss: %.4f (Accuracy: %.2f%%)' % (\n",
    "        state['epoch'], meter_loss.value()[0], meter_accuracy.value()[0]))\n",
    "\n",
    "#     torch.save(model.state_dict(), 'epochs/epoch_%d.pt' % state['epoch'])\n",
    "\n",
    "    # Reconstruction visualization.\n",
    "\n",
    "#     test_sample = next(iter(get_iterator(False)))\n",
    "\n",
    "#     print()\n",
    "#     ground_truth = test_sample[0].float()\n",
    "#     _, reconstructions = model(Variable(ground_truth).cuda())\n",
    "#     reconstruction = reconstructions.cpu().view_as(ground_truth).data\n",
    "\n",
    "#     ground_truth_logger.log(\n",
    "#         make_grid(ground_truth, nrow=int(BATCH_SIZE ** 0.5), normalize=True, range=(0, 1)).numpy())\n",
    "#     reconstruction_logger.log(\n",
    "#         make_grid(reconstruction, nrow=int(BATCH_SIZE ** 0.5), normalize=True, range=(0, 1)).numpy())\n",
    "\n",
    "# def on_start(state):\n",
    "#     state['epoch'] = 327\n",
    "#\n",
    "# engine.hooks['on_start'] = on_start\n",
    "\n",
    "\n",
    "\n",
    "engine.hooks['on_sample'] = on_sample\n",
    "engine.hooks['on_forward'] = on_forward\n",
    "engine.hooks['on_start_epoch'] = on_start_epoch\n",
    "engine.hooks['on_end_epoch'] = on_end_epoch\n",
    "\n",
    "engine.train(processor, get_iterator(True), maxepoch=NUM_EPOCHS, optimizer=optimizer)"
   ]
  },
  {
   "cell_type": "code",
   "execution_count": null,
   "metadata": {},
   "outputs": [],
   "source": [
    "from utils import tumor_data_np\n",
    "\n",
    "test_data = tumor_data_np(data_test, labels_test)\n",
    "test_feeder = torch.utils.data.DataLoader(dataset=test_data, batch_size=1, shuffle=False)\n",
    "\n",
    "correct, y_pred, y_true = 0, list(), list()\n",
    "\n",
    "for image, labels in test_feeder:\n",
    "    \n",
    "    labels = torch.LongTensor(labels.long())\n",
    "    labels = torch.sparse.torch.eye(NUM_CLASSES).index_select(dim=0, index=labels.squeeze())\n",
    "\n",
    "    data = Variable(image).float().cuda()\n",
    "    labels = Variable(labels).cuda()\n",
    "    \n",
    "\n",
    "    \n",
    "    classes, reconstructions = model(data)\n",
    "    \n",
    "    pred = np.argmax(classes.data.cpu().numpy(), axis=1)\n",
    "    true = np.argmax(labels.data.cpu().numpy(), axis=1)\n",
    "    \n",
    "    \n",
    "    correct += (pred == true).sum()\n",
    "    y_pred.append(pred)\n",
    "    y_true.append(true)\n",
    "    \n",
    "print('Accuracy:', correct/len(test_data))"
   ]
  },
  {
   "cell_type": "code",
   "execution_count": null,
   "metadata": {},
   "outputs": [],
   "source": [
    "from sklearn.metrics import confusion_matrix\n",
    "from utils import plot_confusion_matrix\n",
    "\n",
    "plot_confusion_matrix(cm=confusion_matrix(y_true, y_pred), classes=['meningioma','glioma','pituitary tumor'])"
   ]
  },
  {
   "cell_type": "code",
   "execution_count": null,
   "metadata": {},
   "outputs": [],
   "source": []
  },
  {
   "cell_type": "code",
   "execution_count": null,
   "metadata": {},
   "outputs": [],
   "source": []
  }
 ],
 "metadata": {
  "kernelspec": {
   "display_name": "Python 3",
   "language": "python",
   "name": "python3"
  },
  "language_info": {
   "codemirror_mode": {
    "name": "ipython",
    "version": 3
   },
   "file_extension": ".py",
   "mimetype": "text/x-python",
   "name": "python",
   "nbconvert_exporter": "python",
   "pygments_lexer": "ipython3",
   "version": "3.5.4"
  }
 },
 "nbformat": 4,
 "nbformat_minor": 2
}
